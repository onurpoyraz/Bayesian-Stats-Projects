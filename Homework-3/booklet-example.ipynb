{
 "cells": [
  {
   "cell_type": "markdown",
   "metadata": {},
   "source": [
    "# Onur Poyraz 2016705069"
   ]
  },
  {
   "cell_type": "markdown",
   "metadata": {},
   "source": [
    "I hereby declare that I observed the honour code of the university when preparing the homework."
   ]
  },
  {
   "cell_type": "markdown",
   "metadata": {},
   "source": [
    "# Solution to 16.3-5 and 18\n"
   ]
  },
  {
   "cell_type": "markdown",
   "metadata": {},
   "source": [
    "## 16.3"
   ]
  },
  {
   "cell_type": "markdown",
   "metadata": {},
   "source": [
    "We can see that time series follows previous state in usual. However sometimes its change its position and follow that new direction and sometimes it change position and return previous position one step later. So;\n",
    "\n",
    "<img src = '16.3.jpg' align = 'center'>"
   ]
  },
  {
   "cell_type": "markdown",
   "metadata": {},
   "source": [
    "## 16.4"
   ]
  },
  {
   "cell_type": "markdown",
   "metadata": {},
   "source": [
    "The time series goes from \"a\" to \"e\". However at changepoints it returns to \"a\". If it reachs \"e\" it is no longer increase and stays at \"e\". So;\n",
    "\n",
    "<img src = '16.4.jpg' align = 'center'>"
   ]
  },
  {
   "cell_type": "markdown",
   "metadata": {},
   "source": [
    "## 16.5"
   ]
  },
  {
   "cell_type": "markdown",
   "metadata": {},
   "source": [
    "In this part time series takes binary values. If the previous 4 steps took the same value than it change its position. If previous 3 steps took same value it randomly assign the next position. Else it tooks the value of previous steps. Remember that it is looks for previous 4 steps not more. So;\n",
    "\n",
    "<img src = '16.5.jpg' align = 'center'>"
   ]
  },
  {
   "cell_type": "markdown",
   "metadata": {},
   "source": [
    "## 18 "
   ]
  },
  {
   "cell_type": "markdown",
   "metadata": {},
   "source": [
    "### 18.1"
   ]
  },
  {
   "cell_type": "markdown",
   "metadata": {},
   "source": [
    "Here I will plot the corresponding directed graph of given model."
   ]
  },
  {
   "cell_type": "markdown",
   "metadata": {},
   "source": [
    "<img src = '18.1.jpg' align = 'center'>"
   ]
  },
  {
   "cell_type": "markdown",
   "metadata": {},
   "source": [
    "### 18.2"
   ]
  },
  {
   "cell_type": "markdown",
   "metadata": {},
   "source": [
    "Firstly I draw the equivalent undirected graph. In here the new probability is that\n",
    "$$\n",
    "p(X) =\\frac{1}{Z} \\Psi_1(A,T)  \\Psi_2(M,L) \\Psi_3(T,L,F) \\Psi_4(F,X) \\Psi_5(M,L) \\Psi_6(M,B) \\Psi_7(B,F,D)\n",
    "$$"
   ]
  },
  {
   "cell_type": "markdown",
   "metadata": {},
   "source": [
    "<img src = '18.2.1.jpg' align = 'center'>"
   ]
  },
  {
   "cell_type": "markdown",
   "metadata": {},
   "source": [
    "The below one is equivalent factor graph. The probabilities as a factor graph is given by;\n",
    "$$\n",
    "p(X) = f_a(A)  f_m(M) f_t(T,A) f_l(L,M) f_b(B,M) f_f(F,T,L) f_d(D,B,F) f_x(X,F)\n",
    "$$"
   ]
  },
  {
   "cell_type": "markdown",
   "metadata": {},
   "source": [
    "<img src = '18.2.2.jpg' align = 'center'>"
   ]
  },
  {
   "cell_type": "markdown",
   "metadata": {},
   "source": [
    "### 18.3"
   ]
  },
  {
   "cell_type": "markdown",
   "metadata": {},
   "source": [
    "$$P(A) \\rightarrow N-1$$\n",
    "$$P(M) \\rightarrow N-1$$\n",
    "$$P(T|A) \\rightarrow N(N-1)$$\n",
    "$$P(L|M) \\rightarrow N(N-1)$$\n",
    "$$P(B|M) \\rightarrow N(N-1)$$\n",
    "$$P(F|T,L) \\rightarrow N^2(N-1)$$\n",
    "$$P(D|F,B) \\rightarrow N^2(N-1)$$\n",
    "$$P(X|F) \\rightarrow N(N-1)$$\n",
    "\n",
    "Minimum required parametrization is given above for each node. Overall required minimum parametrization is given below as sum of all above;\n",
    "\n",
    "$$P(A)P(M)P(T|A)P(L|M)P(B|M)P(F|T,L)P(D|F,B)P(X|F) \\rightarrow 2(N+1)^2(N-1)^2$$"
   ]
  },
  {
   "cell_type": "markdown",
   "metadata": {},
   "source": [
    "### 18.4 "
   ]
  },
  {
   "cell_type": "markdown",
   "metadata": {},
   "source": [
    "A) True. Because when there is no given node there is no link between A and M. A and M are d-seperated through F.\n",
    "\n",
    "B) False. Because when X is given it is implies F. This means that X and M are no longer D seperated and therefore statement is false.\n",
    "\n",
    "C) False. Again when X is given it is implies F and this situation brokes d-seperation between T and L.\n",
    "\n",
    "D) True. Since F is given there is no longer bridge between L and X.\n",
    "\n",
    "E) False. Since F is not given X and L are no longer independent."
   ]
  }
 ],
 "metadata": {
  "hide_input": false,
  "kernelspec": {
   "display_name": "Python 3",
   "language": "python",
   "name": "python3"
  },
  "language_info": {
   "codemirror_mode": {
    "name": "ipython",
    "version": 3
   },
   "file_extension": ".py",
   "mimetype": "text/x-python",
   "name": "python",
   "nbconvert_exporter": "python",
   "pygments_lexer": "ipython3",
   "version": "3.7.2"
  }
 },
 "nbformat": 4,
 "nbformat_minor": 2
}
